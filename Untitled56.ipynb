{
 "cells": [
  {
   "cell_type": "code",
   "execution_count": 1,
   "id": "bab5dd2d",
   "metadata": {},
   "outputs": [
    {
     "data": {
      "text/html": [
       "<style>\n",
       "/* Set the max-width for the notebook container */\n",
       ".container {\n",
       "    width: 90% !important;\n",
       "}\n",
       "\n",
       "/* Set the max-width for the cell content */\n",
       "div.cell {\n",
       "    width: 90% !important;\n",
       "}\n",
       "</style>\n"
      ],
      "text/plain": [
       "<IPython.core.display.HTML object>"
      ]
     },
     "metadata": {},
     "output_type": "display_data"
    }
   ],
   "source": [
    "%%html\n",
    "<style>\n",
    "/* Set the max-width for the notebook container */\n",
    ".container {\n",
    "    width: 90% !important;\n",
    "}\n",
    "\n",
    "/* Set the max-width for the cell content */\n",
    "div.cell {\n",
    "    width: 90% !important;\n",
    "}\n",
    "</style>"
   ]
  },
  {
   "cell_type": "code",
   "execution_count": 74,
   "id": "55f34fc7",
   "metadata": {},
   "outputs": [],
   "source": [
    "def IsTriangle(func):\n",
    "    def wrapper(self,*args,**kwargs):\n",
    "        s1=self.s1\n",
    "        s2=self.s2\n",
    "        s3=self.s3\n",
    "        \n",
    "        if (s1+s2)>s3 and (s2+s3)>s1 and (s1+s3)>s2:\n",
    "            return func(self,*args,**kwargs)\n",
    "            return True\n",
    "        else:\n",
    "            print('Given sides does not forms a triangle')\n",
    "    return wrapper\n",
    "            "
   ]
  },
  {
   "cell_type": "code",
   "execution_count": 75,
   "id": "db34acb9",
   "metadata": {},
   "outputs": [],
   "source": [
    "class Traingle():\n",
    "    def __init__(self,s1,s2,s3):\n",
    "        self.s1=s1\n",
    "        self.s2=s2\n",
    "        self.s3=s3\n",
    "    def isT(self):\n",
    "        s1=self.s1\n",
    "        s2=self.s2\n",
    "        s3=self.s3\n",
    "        if (s1+s2)>s3 and (s2+s3)>s1 and (s1+s3)>s2:\n",
    "            return True\n",
    "        else:\n",
    "            print('Given sides does not forms a triangle')\n",
    "            \n",
    "    @IsTriangle\n",
    "    def Perimeter(self):\n",
    "        s1=self.s1\n",
    "        s2=self.s2\n",
    "        s3=self.s3\n",
    "        P=(s1+s2+s3)/2\n",
    "        return P\n",
    "        \n",
    "    \n",
    "      "
   ]
  },
  {
   "cell_type": "code",
   "execution_count": 76,
   "id": "62d326cf",
   "metadata": {},
   "outputs": [],
   "source": [
    "a1=Traingle(3,3,2)"
   ]
  },
  {
   "cell_type": "code",
   "execution_count": 77,
   "id": "a588dae7",
   "metadata": {},
   "outputs": [
    {
     "data": {
      "text/plain": [
       "4.0"
      ]
     },
     "execution_count": 77,
     "metadata": {},
     "output_type": "execute_result"
    }
   ],
   "source": [
    "a1.Perimeter()"
   ]
  },
  {
   "cell_type": "code",
   "execution_count": null,
   "id": "229a78ad",
   "metadata": {},
   "outputs": [],
   "source": []
  },
  {
   "cell_type": "code",
   "execution_count": null,
   "id": "3fc9680f",
   "metadata": {},
   "outputs": [],
   "source": []
  },
  {
   "cell_type": "code",
   "execution_count": null,
   "id": "8adbf413",
   "metadata": {},
   "outputs": [],
   "source": []
  }
 ],
 "metadata": {
  "kernelspec": {
   "display_name": "Python 3 (ipykernel)",
   "language": "python",
   "name": "python3"
  },
  "language_info": {
   "codemirror_mode": {
    "name": "ipython",
    "version": 3
   },
   "file_extension": ".py",
   "mimetype": "text/x-python",
   "name": "python",
   "nbconvert_exporter": "python",
   "pygments_lexer": "ipython3",
   "version": "3.9.7"
  }
 },
 "nbformat": 4,
 "nbformat_minor": 5
}
